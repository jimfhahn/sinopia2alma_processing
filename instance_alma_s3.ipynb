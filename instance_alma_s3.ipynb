{
 "cells": [
  {
   "cell_type": "code",
   "execution_count": 1,
   "metadata": {},
   "outputs": [],
   "source": [
    "instance_uri = \"https://api.development.sinopia.io/resource/690eb696-98e6-4fa9-aecc-6f6ef774f339\"\n",
    "# change the instance_uri to the URI of the instance that you want to serialize for Alma RDF/XML."
   ]
  },
  {
   "cell_type": "code",
   "execution_count": 2,
   "metadata": {},
   "outputs": [
    {
     "name": "stdout",
     "output_type": "stream",
     "text": [
      "Requirement already satisfied: rdflib in /Users/jameshahn/anaconda3/lib/python3.11/site-packages (7.0.0)\n",
      "Requirement already satisfied: isodate<0.7.0,>=0.6.0 in /Users/jameshahn/anaconda3/lib/python3.11/site-packages (from rdflib) (0.6.1)\n",
      "Requirement already satisfied: pyparsing<4,>=2.1.0 in /Users/jameshahn/anaconda3/lib/python3.11/site-packages (from rdflib) (3.0.9)\n",
      "Requirement already satisfied: six in /Users/jameshahn/anaconda3/lib/python3.11/site-packages (from isodate<0.7.0,>=0.6.0->rdflib) (1.16.0)\n",
      "\n",
      "\u001b[1m[\u001b[0m\u001b[34;49mnotice\u001b[0m\u001b[1;39;49m]\u001b[0m\u001b[39;49m A new release of pip is available: \u001b[0m\u001b[31;49m23.3.1\u001b[0m\u001b[39;49m -> \u001b[0m\u001b[32;49m24.0\u001b[0m\n",
      "\u001b[1m[\u001b[0m\u001b[34;49mnotice\u001b[0m\u001b[1;39;49m]\u001b[0m\u001b[39;49m To update, run: \u001b[0m\u001b[32;49mpip install --upgrade pip\u001b[0m\n",
      "Requirement already satisfied: lxml in /Users/jameshahn/anaconda3/lib/python3.11/site-packages (4.9.3)\n",
      "\n",
      "\u001b[1m[\u001b[0m\u001b[34;49mnotice\u001b[0m\u001b[1;39;49m]\u001b[0m\u001b[39;49m A new release of pip is available: \u001b[0m\u001b[31;49m23.3.1\u001b[0m\u001b[39;49m -> \u001b[0m\u001b[32;49m24.0\u001b[0m\n",
      "\u001b[1m[\u001b[0m\u001b[34;49mnotice\u001b[0m\u001b[1;39;49m]\u001b[0m\u001b[39;49m To update, run: \u001b[0m\u001b[32;49mpip install --upgrade pip\u001b[0m\n"
     ]
    }
   ],
   "source": [
    "!pip install rdflib\n",
    "!pip install lxml"
   ]
  },
  {
   "cell_type": "code",
   "execution_count": 3,
   "metadata": {},
   "outputs": [],
   "source": [
    "from rdflib import Graph, Namespace, URIRef\n",
    "from rdflib import Namespace, URIRef, RDF, Graph\n",
    "from rdflib.namespace import RDF\n",
    "from lxml import etree as ET\n",
    "from name_space.alma_ns import alma_namespaces\n"
   ]
  },
  {
   "cell_type": "code",
   "execution_count": 4,
   "metadata": {},
   "outputs": [
    {
     "data": {
      "text/plain": [
       "<Graph identifier=N008a9de402424d0daeb44eb5c0dfe48e (<class 'rdflib.graph.Graph'>)>"
      ]
     },
     "execution_count": 4,
     "metadata": {},
     "output_type": "execute_result"
    }
   ],
   "source": [
    "instance_uri = URIRef(instance_uri)\n",
    "work_uri = None\n",
    "instance_graph = Graph()\n",
    "work_graph = Graph()\n",
    "instance_graph.parse(instance_uri)"
   ]
  },
  {
   "cell_type": "code",
   "execution_count": 5,
   "metadata": {},
   "outputs": [
    {
     "name": "stdout",
     "output_type": "stream",
     "text": [
      "<?xml version=\"1.0\" encoding=\"utf-8\"?>\n",
      "<rdf:RDF\n",
      "  xmlns:bf=\"http://id.loc.gov/ontologies/bibframe/\"\n",
      "  xmlns:sinopiabf=\"http://sinopia.io/vocabulary/bf/\"\n",
      "  xmlns:sinopia=\"http://sinopia.io/vocabulary/\"\n",
      "  xmlns:bflc=\"http://id.loc.gov/ontologies/bflc/\"\n",
      "  xmlns:rdf=\"http://www.w3.org/1999/02/22-rdf-syntax-ns#\"\n",
      "  xmlns:rdfs=\"http://www.w3.org/2000/01/rdf-schema#\"\n",
      ">\n",
      "  <bf:Instance rdf:about=\"https://api.development.sinopia.io/resource/690eb696-98e6-4fa9-aecc-6f6ef774f339\">\n",
      "    <rdf:type rdf:resource=\"http://id.loc.gov/ontologies/bibframe/Print\"/>\n",
      "    <sinopia:hasResourceTemplate>pcc:bf2:Monograph:Instance</sinopia:hasResourceTemplate>\n",
      "    <bf:instanceOf>\n",
      "      <rdf:Description rdf:about=\"https://api.development.sinopia.io/resource/c61118ac-f5ad-4d1c-99c2-efb8c28898bf\">\n",
      "        <rdfs:label xml:lang=\"en\">Johannes Gutenberg</rdfs:label>\n",
      "      </rdf:Description>\n",
      "    </bf:instanceOf>\n",
      "    <bf:title>\n",
      "      <bf:Title rdf:nodeID=\"fc0ee8765e6814e218e17400be7362059b1\">\n",
      "        <bf:mainTitle xml:lang=\"de\">Johannes Gutenberg</bf:mainTitle>\n",
      "        <sinopiabf:nonfiling rdf:datatype=\"http://www.w3.org/2001/XMLSchema#integer\">0</sinopiabf:nonfiling>\n",
      "        <bf:subtitle xml:lang=\"de\">Epische Dichtung</bf:subtitle>\n",
      "      </bf:Title>\n",
      "    </bf:title>\n",
      "    <bf:responsibilityStatement xml:lang=\"de\">von Adolf Stern</bf:responsibilityStatement>\n",
      "    <bf:editionStatement xml:lang=\"de\">Zweite durchgesehene Auflage</bf:editionStatement>\n",
      "    <bf:provisionActivity>\n",
      "      <bf:Publication rdf:nodeID=\"fc0ee8765e6814e218e17400be7362059b2\">\n",
      "        <bf:date rdf:datatype=\"http://id.loc.gov/datatypes/edtf/\">1889</bf:date>\n",
      "        <bf:place rdf:resource=\"http://id.loc.gov/vocabulary/countries/gw\"/>\n",
      "        <bflc:simplePlace xml:lang=\"de\">Dresden</bflc:simplePlace>\n",
      "        <bflc:simpleAgent xml:lang=\"de\">L. Ehlermann</bflc:simpleAgent>\n",
      "        <bflc:simpleDate>1889</bflc:simpleDate>\n",
      "      </bf:Publication>\n",
      "    </bf:provisionActivity>\n",
      "    <bf:extent>\n",
      "      <bf:Extent rdf:nodeID=\"fc0ee8765e6814e218e17400be7362059b3\">\n",
      "        <rdfs:label xml:lang=\"en\">385 pages</rdfs:label>\n",
      "      </bf:Extent>\n",
      "    </bf:extent>\n",
      "    <bf:dimensions>19 cm</bf:dimensions>\n",
      "    <bf:issuance>\n",
      "      <bf:Issuance rdf:about=\"http://id.loc.gov/vocabulary/issuance/mono\">\n",
      "        <rdfs:label xml:lang=\"en\">single unit</rdfs:label>\n",
      "      </bf:Issuance>\n",
      "    </bf:issuance>\n",
      "    <bf:media>\n",
      "      <bf:Media rdf:about=\"http://id.loc.gov/vocabulary/mediaTypes/n\">\n",
      "        <rdfs:label xml:lang=\"en\">unmediated</rdfs:label>\n",
      "      </bf:Media>\n",
      "    </bf:media>\n",
      "    <bf:carrier>\n",
      "      <bf:Carrier rdf:about=\"http://id.loc.gov/vocabulary/carriers/nc\">\n",
      "        <rdfs:label xml:lang=\"en\">volume</rdfs:label>\n",
      "      </bf:Carrier>\n",
      "    </bf:carrier>\n",
      "    <bf:adminMetadata>\n",
      "      <bf:AdminMetadata rdf:nodeID=\"fc0ee8765e6814e218e17400be7362059b4\">\n",
      "        <bflc:catalogerId>kblount</bflc:catalogerId>\n",
      "        <bf:creationDate>2023-09-06</bf:creationDate>\n",
      "        <bf:assigner rdf:resource=\"http://id.loc.gov/vocabulary/organizations/pu\"/>\n",
      "        <bflc:encodingLevel rdf:resource=\"http://id.loc.gov/vocabulary/menclvl/f\"/>\n",
      "        <bf:descriptionConventions rdf:resource=\"http://id.loc.gov/vocabulary/descriptionConventions/rda\"/>\n",
      "        <bf:descriptionLanguage rdf:resource=\"https://id.loc.gov/vocabulary/languages/eng\"/>\n",
      "      </bf:AdminMetadata>\n",
      "    </bf:adminMetadata>\n",
      "  </bf:Instance>\n",
      "  <bf:Agent rdf:about=\"http://id.loc.gov/vocabulary/organizations/pu\">\n",
      "    <rdfs:label xml:lang=\"en\">University of Pennsylvania, Van Pelt-Dietrich Library (Van Pelt-Dietrich Library, University of ...</rdfs:label>\n",
      "  </bf:Agent>\n",
      "  <bf:DescriptionConventions rdf:about=\"http://id.loc.gov/vocabulary/descriptionConventions/rda\">\n",
      "    <rdfs:label xml:lang=\"en\">Resource description and access</rdfs:label>\n",
      "  </bf:DescriptionConventions>\n",
      "  <rdf:Description rdf:about=\"http://id.loc.gov/vocabulary/menclvl/f\">\n",
      "    <rdfs:label xml:lang=\"en\">full</rdfs:label>\n",
      "  </rdf:Description>\n",
      "  <rdf:Description rdf:about=\"http://id.loc.gov/vocabulary/countries/gw\">\n",
      "    <rdfs:label>Germany</rdfs:label>\n",
      "  </rdf:Description>\n",
      "  <rdf:Description rdf:about=\"https://id.loc.gov/vocabulary/languages/eng\">\n",
      "    <rdfs:label xml:lang=\"en\">English</rdfs:label>\n",
      "  </rdf:Description>\n",
      "</rdf:RDF>\n",
      "\n"
     ]
    }
   ],
   "source": [
    "# Define the bf and bflc namespaces\n",
    "bf = Namespace(\"http://id.loc.gov/ontologies/bibframe/\")\n",
    "for prefix, url in alma_namespaces:\n",
    "    instance_graph.bind(prefix, url)\n",
    "work_uri = instance_graph.value(subject=URIRef(instance_uri), predicate=bf.instanceOf)\n",
    "work_uri = URIRef(work_uri)\n",
    "# Explicitly state that work_uri is of type bf:Work\n",
    "work_graph.add((work_uri, RDF.type, bf.Work))\n",
    "# add the work to the instance graph\n",
    "instance_graph.add((instance_uri, bf.instanceOf, URIRef(work_uri)))\n",
    "# serialize the instance graph\n",
    "instance_alma_xml = instance_graph.serialize(format=\"pretty-xml\", encoding=\"utf-8\")\n",
    "\n",
    "print(instance_graph.serialize(format='pretty-xml'))\n"
   ]
  },
  {
   "cell_type": "code",
   "execution_count": 6,
   "metadata": {},
   "outputs": [
    {
     "name": "stdout",
     "output_type": "stream",
     "text": [
      "<bib>\n",
      "  <record_format>lcbf_instance</record_format>\n",
      "  <suppress_from_publishing>false</suppress_from_publishing>\n",
      "  <record>\n",
      "    <rdf:RDF xmlns:bf=\"http://id.loc.gov/ontologies/bibframe/\" xmlns:rdf=\"http://www.w3.org/1999/02/22-rdf-syntax-ns#\" xmlns:sinopia=\"http://sinopia.io/vocabulary/\" xmlns:bflc=\"http://id.loc.gov/ontologies/bflc/\" xmlns:rdfs=\"http://www.w3.org/2000/01/rdf-schema#\">\n",
      "  <bf:Instance rdf:about=\"https://api.development.sinopia.io/resource/690eb696-98e6-4fa9-aecc-6f6ef774f339\" xmlns:bf=\"http://id.loc.gov/ontologies/bibframe/\">\n",
      "    <rdf:type rdf:resource=\"http://id.loc.gov/ontologies/bibframe/Print\"/>\n",
      "    <sinopia:hasResourceTemplate>pcc:bf2:Monograph:Instance</sinopia:hasResourceTemplate>\n",
      "    <bf:instanceOf rdf:resource=\"https://api.development.sinopia.io/resource/c61118ac-f5ad-4d1c-99c2-efb8c28898bf\"/>\n",
      "    <bf:title>\n",
      "      <bf:Title rdf:nodeID=\"fc0ee8765e6814e218e17400be7362059b1\">\n",
      "        <bf:mainTitle xml:lang=\"de\">Johannes Gutenberg</bf:mainTitle>\n",
      "        <bflc:nonSortNum>0</bflc:nonSortNum>\n",
      "        <bf:subtitle xml:lang=\"de\">Epische Dichtung</bf:subtitle>\n",
      "      </bf:Title>\n",
      "    </bf:title>\n",
      "    <bf:responsibilityStatement xml:lang=\"de\">von Adolf Stern</bf:responsibilityStatement>\n",
      "    <bf:editionStatement xml:lang=\"de\">Zweite durchgesehene Auflage</bf:editionStatement>\n",
      "    <bf:provisionActivity>\n",
      "      <bf:Publication rdf:nodeID=\"fc0ee8765e6814e218e17400be7362059b2\">\n",
      "        <bf:date rdf:datatype=\"http://id.loc.gov/datatypes/edtf\">1889</bf:date>\n",
      "        <bf:place rdf:resource=\"http://id.loc.gov/vocabulary/countries/gw\"/>\n",
      "        <bflc:simplePlace xml:lang=\"de\">Dresden</bflc:simplePlace>\n",
      "        <bflc:simpleAgent xml:lang=\"de\">L. Ehlermann</bflc:simpleAgent>\n",
      "        <bflc:simpleDate>1889</bflc:simpleDate>\n",
      "      </bf:Publication>\n",
      "    </bf:provisionActivity>\n",
      "    <bf:extent>\n",
      "      <bf:Extent rdf:nodeID=\"fc0ee8765e6814e218e17400be7362059b3\">\n",
      "        <rdfs:label xml:lang=\"en\">385 pages</rdfs:label>\n",
      "      </bf:Extent>\n",
      "    </bf:extent>\n",
      "    <bf:dimensions>19 cm</bf:dimensions>\n",
      "    <bf:issuance>\n",
      "      <bf:Issuance rdf:about=\"http://id.loc.gov/vocabulary/issuance/mono\">\n",
      "        <rdfs:label xml:lang=\"en\">single unit</rdfs:label>\n",
      "      </bf:Issuance>\n",
      "    </bf:issuance>\n",
      "    <bf:media>\n",
      "      <bf:Media rdf:about=\"http://id.loc.gov/vocabulary/mediaTypes/n\">\n",
      "        <rdfs:label xml:lang=\"en\">unmediated</rdfs:label>\n",
      "      </bf:Media>\n",
      "    </bf:media>\n",
      "    <bf:carrier>\n",
      "      <bf:Carrier rdf:about=\"http://id.loc.gov/vocabulary/carriers/nc\">\n",
      "        <rdfs:label xml:lang=\"en\">volume</rdfs:label>\n",
      "      </bf:Carrier>\n",
      "    </bf:carrier>\n",
      "    <bf:adminMetadata>\n",
      "      <bf:AdminMetadata rdf:nodeID=\"fc0ee8765e6814e218e17400be7362059b4\">\n",
      "        <bflc:catalogerId>kblount</bflc:catalogerId>\n",
      "        <bf:creationDate>2023-09-06</bf:creationDate>\n",
      "        <bf:assigner rdf:resource=\"http://id.loc.gov/vocabulary/organizations/pu\"/>\n",
      "        <bflc:encodingLevel rdf:resource=\"http://id.loc.gov/vocabulary/menclvl/f\"/>\n",
      "        <bf:descriptionConventions rdf:resource=\"http://id.loc.gov/vocabulary/descriptionConventions/rda\"/>\n",
      "        <bf:descriptionLanguage rdf:resource=\"https://id.loc.gov/vocabulary/languages/eng\"/>\n",
      "      </bf:AdminMetadata>\n",
      "    </bf:adminMetadata>\n",
      "  </bf:Instance>\n",
      "  <bf:Agent rdf:about=\"http://id.loc.gov/vocabulary/organizations/pu\">\n",
      "    <rdfs:label xml:lang=\"en\">University of Pennsylvania, Van Pelt-Dietrich Library (Van Pelt-Dietrich Library, University of ...</rdfs:label>\n",
      "  </bf:Agent>\n",
      "  <bf:DescriptionConventions rdf:about=\"http://id.loc.gov/vocabulary/descriptionConventions/rda\">\n",
      "    <rdfs:label xml:lang=\"en\">Resource description and access</rdfs:label>\n",
      "  </bf:DescriptionConventions>\n",
      "  <rdf:Description rdf:about=\"http://id.loc.gov/vocabulary/menclvl/f\">\n",
      "    <rdfs:label xml:lang=\"en\">full</rdfs:label>\n",
      "  </rdf:Description>\n",
      "  <rdf:Description rdf:about=\"http://id.loc.gov/vocabulary/countries/gw\">\n",
      "    <rdfs:label>Germany</rdfs:label>\n",
      "  </rdf:Description>\n",
      "  <rdf:Description rdf:about=\"https://id.loc.gov/vocabulary/languages/eng\">\n",
      "    <rdfs:label xml:lang=\"en\">English</rdfs:label>\n",
      "  </rdf:Description>\n",
      "</rdf:RDF>\n",
      "  </record>\n",
      "</bib>\n",
      "\n"
     ]
    }
   ],
   "source": [
    "tree = ET.fromstring(instance_alma_xml)\n",
    "# apply xslt to normalize instance\n",
    "xslt = ET.parse(\"xsl/normalize-instance-sinopia2alma.xsl\")\n",
    "transform = ET.XSLT(xslt)\n",
    "instance_alma_xml = transform(tree)\n",
    "instance_alma_xml = ET.tostring(\n",
    "        instance_alma_xml, pretty_print=True, encoding=\"utf-8\"\n",
    "        )\n",
    "# save the xml to a file\n",
    "with open(\"alma-instance.xml\", \"wb\") as f:\n",
    "    f.write(instance_alma_xml)\n",
    "print(instance_alma_xml.decode(\"utf-8\"))"
   ]
  }
 ],
 "metadata": {
  "kernelspec": {
   "display_name": "Python 3",
   "language": "python",
   "name": "python3"
  },
  "language_info": {
   "codemirror_mode": {
    "name": "ipython",
    "version": 3
   },
   "file_extension": ".py",
   "mimetype": "text/x-python",
   "name": "python",
   "nbconvert_exporter": "python",
   "pygments_lexer": "ipython3",
   "version": "3.12.0"
  }
 },
 "nbformat": 4,
 "nbformat_minor": 2
}
