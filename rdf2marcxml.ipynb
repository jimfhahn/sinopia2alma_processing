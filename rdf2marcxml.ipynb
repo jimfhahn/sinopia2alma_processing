{
 "cells": [
  {
   "cell_type": "markdown",
   "metadata": {},
   "source": [
    "# RDF2MARCXML\n",
    "\n",
    "Replace the URI with your Instance URI from Sinopia to generate MARCXML based on the Library of Congress BIBFRAME2MARC mapping.\n"
   ]
  },
  {
   "cell_type": "code",
   "execution_count": 1,
   "metadata": {},
   "outputs": [
    {
     "name": "stdout",
     "output_type": "stream",
     "text": [
      "Requirement already satisfied: subprocess.run in /Users/jimhahn/Downloads/wiki-cs-dataset-master/.conda/lib/python3.10/site-packages (0.0.8)\n"
     ]
    }
   ],
   "source": [
    "!pip install subprocess.run"
   ]
  },
  {
   "cell_type": "code",
   "execution_count": 2,
   "metadata": {},
   "outputs": [],
   "source": [
    "import subprocess\n",
    "from marc_xml.lc_bfxml_work import lc_bfxml_work, remove_last_line\n",
    "from marc_xml.lc_bfxml_instance import lc_bfxml_instance, remove_rdf_header\n",
    "\n",
    "#replace uri with the Instance uri of the resource you want to convert\n",
    "uri = \"https://api.development.sinopia.io/resource/90fb418e-4ff4-4296-af69-1e30e2ac2f8a\"\n",
    "\n",
    "lc_bfxml_work(uri)  \n",
    "remove_last_line() \n",
    "lc_bfxml_instance(uri) \n",
    "remove_rdf_header() \n"
   ]
  },
  {
   "cell_type": "code",
   "execution_count": 3,
   "metadata": {},
   "outputs": [
    {
     "name": "stderr",
     "output_type": "stream",
     "text": [
      "Record idp140160675494879: Unprocessed node bf:language. Non-repeatable target element 008.\n",
      "Record idp140160675494879: Unprocessed node bf:assigner. Non-repeatable target field (040).\n"
     ]
    },
    {
     "data": {
      "text/plain": [
       "CompletedProcess(args=['xsltproc', '-o', 'marc.xml', '../bibframe2marc/bibframe2marc.xsl', 'LoC_Work_Instance_Normalized.xml'], returncode=0)"
      ]
     },
     "execution_count": 3,
     "metadata": {},
     "output_type": "execute_result"
    }
   ],
   "source": [
    "# combine the two files use work first then add the instance\n",
    "with open(\"lc_bfxml_work.xml\", \"r\") as work_file:\n",
    "    work = work_file.read()\n",
    "with open(\"lc_bfxml_instance.xml\", \"r\") as instance_file:\n",
    "    instance = instance_file.read()\n",
    "\n",
    "#save as a file name LoC_Work_Instance.xml\n",
    "with open(\"LoC_Work_Instance.xml\", \"w\") as combined_file:\n",
    "    combined_file.write(work + instance)\n",
    "\n",
    "# add the sinopiabf namespace to the combined file\n",
    "with open(\"LoC_Work_Instance.xml\", \"r\") as file:\n",
    "    filedata = file.read()\n",
    "filedata = filedata.replace('<rdf:RDF', '<rdf:RDF xmlns:sinopiabf=\"http://sinopia.io/vocabulary/bf/\"')\n",
    "with open(\"LoC_Work_Instance.xml\", \"w\") as file:\n",
    "    file.write(filedata)\n",
    "\n",
    "# apply \"pre-transform-normalize.xsl\" on LoC_Work_Instance.xml file for normalization\n",
    "import lxml.etree as ET\n",
    "dom = ET.parse(\"LoC_Work_Instance.xml\")\n",
    "xslt = ET.parse(\"marc_xml/xsl/pre-transform-normalize.xsl\")\n",
    "transform = ET.XSLT(xslt)\n",
    "newdom = transform(dom)\n",
    "with open(\"LoC_Work_Instance_Normalized.xml\", \"w\") as f:\n",
    "    f.write(str(newdom))    \n",
    "\n",
    "\n",
    "# use xsltproc for bibfame to mark conversion\n",
    "subprocess.run(['xsltproc', '-o', 'marc.xml', '../bibframe2marc/bibframe2marc.xsl', 'LoC_Work_Instance_Normalized.xml'])"
   ]
  }
 ],
 "metadata": {
  "kernelspec": {
   "display_name": "Python 3",
   "language": "python",
   "name": "python3"
  },
  "language_info": {
   "codemirror_mode": {
    "name": "ipython",
    "version": 3
   },
   "file_extension": ".py",
   "mimetype": "text/x-python",
   "name": "python",
   "nbconvert_exporter": "python",
   "pygments_lexer": "ipython3",
   "version": "3.10.11"
  }
 },
 "nbformat": 4,
 "nbformat_minor": 2
}
